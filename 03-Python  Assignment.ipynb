{
 "cells": [
  {
   "cell_type": "markdown",
   "id": "f592d2ac",
   "metadata": {},
   "source": [
    "#### 1.1 Write a Python Program to implement your own myreduce() function which works exactly like Python's built-in function reduce()"
   ]
  },
  {
   "cell_type": "code",
   "execution_count": 1,
   "id": "972d6d58",
   "metadata": {},
   "outputs": [
    {
     "name": "stdout",
     "output_type": "stream",
     "text": [
      "21\n",
      "144.00\n",
      "1\n",
      "6\n",
      "1\n"
     ]
    }
   ],
   "source": [
    "def myReduce(funxn, seq, initial = None):\n",
    "    \n",
    "    if initial == None:\n",
    "        value, i = seq[0], 1\n",
    "    else:\n",
    "        value, i = initial, 0\n",
    "    \n",
    "    for _ in range(i, len(seq)):\n",
    "        value = funxn(value, seq[_])\n",
    "        \n",
    "    return value\n",
    "\n",
    "def main():\n",
    "    add = lambda x, y: x+y\n",
    "    mult = lambda x, y: x*y\n",
    "    subt = lambda x, y: x-y\n",
    "    maxm = lambda x, y: x if x>y else y\n",
    "    minm = lambda x, y: x if x<y else y\n",
    "\n",
    "\n",
    "    l = [1,2,3,4,5,6]\n",
    "\n",
    "    print(myReduce(add, l))\n",
    "    print(f'{myReduce(mult, l, 0.2) :.2f}')\n",
    "    print(myReduce(subt, l, 22))\n",
    "    print(myReduce(maxm, l))\n",
    "    print(myReduce(minm, l))\n",
    "main()"
   ]
  },
  {
   "cell_type": "markdown",
   "id": "af48cbcd",
   "metadata": {},
   "source": [
    "#### 1.2 Write a Python program to implement your own myfilter() function which works exactly like Python's built-in function filter()"
   ]
  },
  {
   "cell_type": "code",
   "execution_count": 2,
   "id": "7a41b849",
   "metadata": {},
   "outputs": [
    {
     "name": "stdout",
     "output_type": "stream",
     "text": [
      "[11, 13, 17, 19, 23, 29, 31, 37, 41, 43, 47, 53, 59, 61, 67, 71, 73, 79, 83, 89, 97, 101, 103, 107, 109, 113, 127, 131, 137, 139, 149, 151, 157, 163, 167, 173, 179, 181, 191, 193, 197, 199]\n",
      "\n",
      "\n",
      "[12, 15, 18, 21, 24, 27, 30, 33, 36, 39, 42, 45, 48, 51, 54, 57, 60, 63, 66, 69, 72, 75, 78, 81, 84, 87, 90, 93, 96, 99, 102, 105, 108, 111, 114, 117, 120, 123, 126, 129, 132, 135, 138, 141, 144, 147, 150, 153, 156, 159, 162, 165, 168, 171, 174, 177, 180, 183, 186, 189, 192, 195, 198]\n",
      "\n",
      "\n",
      "[10, 12, 14, 16, 18, 20, 22, 24, 26, 28, 30, 32, 34, 36, 38, 40, 42, 44, 46, 48, 50, 52, 54, 56, 58, 60, 62, 64, 66, 68, 70, 72, 74, 76, 78, 80, 82, 84, 86, 88, 90, 92, 94, 96, 98, 100, 102, 104, 106, 108, 110, 112, 114, 116, 118, 120, 122, 124, 126, 128, 130, 132, 134, 136, 138, 140, 142, 144, 146, 148, 150, 152, 154, 156, 158, 160, 162, 164, 166, 168, 170, 172, 174, 176, 178, 180, 182, 184, 186, 188, 190, 192, 194, 196, 198, 200]\n",
      "\n",
      "\n"
     ]
    }
   ],
   "source": [
    "def myFilter( funxn, seq):\n",
    "    x = [i for i in seq if funxn(i) == True]\n",
    "    return x\n",
    "\n",
    "even_no = lambda x: x%2 == 0\n",
    "mult_3 = lambda x: x%3 == 0\n",
    "isprime = lambda x: all (x%i != 0 for i in range(2,int(x**.5 +1)))\n",
    "\n",
    "a = list(range(10,201))\n",
    "\n",
    "print(myFilter(isprime, a),end='\\n\\n\\n')\n",
    "print(myFilter(mult_3, a),end='\\n\\n\\n')\n",
    "print(myFilter(even_no, a),end='\\n\\n\\n')"
   ]
  },
  {
   "cell_type": "markdown",
   "id": "0db6f13e",
   "metadata": {},
   "source": [
    "#### 2. Implement List comprehensions to produce the following lists. Write List comprehensions to produce the following Lists"
   ]
  },
  {
   "cell_type": "markdown",
   "id": "348dce2b",
   "metadata": {},
   "source": [
    "['A', 'C', 'A', 'D', 'G', 'I', ’L’, ‘ D’]\n",
    "\n",
    "['x', 'xx', 'xxx', 'xxxx', 'y', 'yy', 'yyy', 'yyyy', 'z', 'zz', 'zzz', 'zzzz']\n",
    "\n",
    "['x', 'y', 'z', 'xx', 'yy', 'zz', 'xxx', 'yyy', 'zzz', 'xxxx', 'yyyy', 'zzzz']\n",
    "\n",
    "[[2], [3], [4], [3], [4], [5], [4], [5], [6]] \n",
    "\n",
    "[2, 3, 4, 5], [3, 4, 5, 6], [4, 5, 6, 7], [5, 6, 7, 8]]\n",
    "\n",
    "[(1, 1), (2, 1), (3, 1), (1, 2), (2, 2), (3, 2), (1, 3), (2, 3), (3, 3)]"
   ]
  },
  {
   "cell_type": "code",
   "execution_count": 5,
   "id": "31eb4ef4",
   "metadata": {},
   "outputs": [
    {
     "name": "stdout",
     "output_type": "stream",
     "text": [
      "['A', 'C', 'A', 'D', 'G', 'I', 'L', 'D']\n",
      "['x', 'xx', 'xxx', 'xxxx', 'y', 'yy', 'yyy', 'yyyy', 'z', 'zz', 'zzz', 'zzzz']\n",
      "['x', 'y', 'z', 'xx', 'yy', 'zz', 'xxx', 'yyy', 'zzz', 'xxxx', 'yyyy', 'zzzz']\n",
      "[[2], [3], [4], [3], [4], [5], [4], [5], [6]]\n",
      "[[2, 3, 4, 5], [3, 4, 5, 6], [4, 5, 6, 7], [5, 6, 7, 8]]\n",
      "[(1, 1), (2, 1), (3, 1), (1, 2), (2, 2), (3, 2), (1, 3), (2, 3), (3, 3)]\n"
     ]
    }
   ],
   "source": [
    "print(l1 := [ch for ch in 'ACADGILD'])\n",
    "print(l2 := [ch * mul for ch in 'xyz' for mul in range(1, 5)])\n",
    "print(l3 := [ch * mul for mul in range(1, 5) for ch in 'xyz'])\n",
    "print(l4 := [[i + j] for i in range(3) for j in range(2, 5)])\n",
    "print(l5 := [[i + j for i in range(2, 6)] for j in range(4)])\n",
    "print(l6 := [(i, j) for j in range(1, 4) for i in range(1, 4)])"
   ]
  }
 ],
 "metadata": {
  "kernelspec": {
   "display_name": "Python 3",
   "language": "python",
   "name": "python3"
  },
  "language_info": {
   "codemirror_mode": {
    "name": "ipython",
    "version": 3
   },
   "file_extension": ".py",
   "mimetype": "text/x-python",
   "name": "python",
   "nbconvert_exporter": "python",
   "pygments_lexer": "ipython3",
   "version": "3.9.2"
  }
 },
 "nbformat": 4,
 "nbformat_minor": 5
}
