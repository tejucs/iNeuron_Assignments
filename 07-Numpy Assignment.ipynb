{
 "cells": [
  {
   "cell_type": "markdown",
   "id": "f0215c0e",
   "metadata": {},
   "source": [
    "#### Write a function so that the columns of the output matrix are powers of the input vector. The order of the powers is determined by the increasing boolean argument. Specifically, when increasing is False, the i-th output column is the input vector raised element-wise to the power of N - i - 1.\n",
    "\n",
    "HINT: Such a matrix with a geometric progression in each row is named for Alexandre- Theophile Vandermonde.\n",
    "\n"
   ]
  },
  {
   "cell_type": "code",
   "execution_count": 34,
   "id": "a234b692",
   "metadata": {},
   "outputs": [],
   "source": [
    "import numpy as np\n",
    "\n",
    "\n",
    "def vandermonde(x, N = None, increasing = False):\n",
    "    '''\n",
    "    Generate a Vandermonde matrix.\n",
    "\n",
    "    The columns of the output matrix are powers of the input vector. The order of the powers is determined by the increasing boolean argument. Specifically, when increasing is False, the i-th output column is the input vector raised element-wise to the power of N - i - 1. Such a matrix with a geometric progression in each row is named for Alexandre- Theophile Vandermonde.\n",
    "\n",
    "    Parameters \n",
    "    ============\n",
    "    vector: array_like\n",
    "    1-D input array.\n",
    "\n",
    "    N: int, optional\n",
    "    Number of columns in the output. If N is not specified, a square array is returned (N = len(x)).\n",
    "\n",
    "    increasing: bool, optional\n",
    "    Order of the powers of the columns. If True, the powers increase from left to right, if False (the default) they are reversed.\n",
    "\n",
    "    Returns\n",
    "    ==========\n",
    "    out: ndarray\n",
    "    Vandermonde matrix. If increasing is False, the first column is x^(N-1), the second x^(N-2) and so forth. If increasing is True, the columns are x^0, x^1, ..., x^(N-1).\n",
    "    '''\n",
    "    N = len(x) if N == None else N\n",
    "    res = np.array([x ** (N - 1 - i) for i in range(N)] if increasing == False else [x ** (i) for i in range(N)]).T\n",
    "    return res"
   ]
  },
  {
   "cell_type": "code",
   "execution_count": 35,
   "id": "ed32cfca",
   "metadata": {},
   "outputs": [
    {
     "data": {
      "text/plain": [
       "array([[  1,   1,   1,   1],\n",
       "       [  8,   4,   2,   1],\n",
       "       [ 27,   9,   3,   1],\n",
       "       [125,  25,   5,   1]], dtype=int32)"
      ]
     },
     "execution_count": 35,
     "metadata": {},
     "output_type": "execute_result"
    }
   ],
   "source": [
    "vandermonde(np.array([1, 2, 3, 5]))"
   ]
  },
  {
   "cell_type": "code",
   "execution_count": 36,
   "id": "8cdd1d3e",
   "metadata": {},
   "outputs": [
    {
     "data": {
      "text/plain": [
       "array([[ 1,  1,  1],\n",
       "       [ 1,  2,  4],\n",
       "       [ 1,  3,  9],\n",
       "       [ 1,  5, 25]], dtype=int32)"
      ]
     },
     "execution_count": 36,
     "metadata": {},
     "output_type": "execute_result"
    }
   ],
   "source": [
    "vandermonde(np.array([1, 2, 3, 5]), 3, increasing = True)"
   ]
  },
  {
   "cell_type": "markdown",
   "id": "e8d64c6c",
   "metadata": {},
   "source": [
    "#### Problem Statement 2:\n",
    "Given a sequence of n values x1, x2, ..., xn and a window size k>0, the k-th moving average of the given sequence is defined as follows:\n",
    "* The moving average sequence has n-k+1 elements as shown below.\n",
    "* The moving averages with k=4 of a ten-value sequence (n=10) is shown below\n",
    "* i 1 2 3 4 5 6 7 8 9 10\n",
    "\n",
    "\n",
    "* Input 10 20 30 40 50 60 70 80 90 100\n",
    "* y1 25 = (10+20+30+40)/4\n",
    "* y2 35 = (20+30+40+50)/4\n",
    "* y3 45 = (30+40+50+60)/4\n",
    "* y4 55 = (40+50+60+70)/4\n",
    "* y5 65 = (50+60+70+80)/4\n",
    "* y6 75 = (60+70+80+90)/4\n",
    "* y7 85 = (70+80+90+100)/4\n",
    "\n",
    "Thus, the moving average sequence has n-k+1=10-4+1=7 values.\n",
    "\n",
    "#### Question: Write a function to find moving average in an array over a window:\n",
    "#### Test it over [3, 5, 7, 2, 8, 10, 11, 65, 72, 81, 99, 100, 150] and window of 3."
   ]
  },
  {
   "cell_type": "code",
   "execution_count": 39,
   "id": "84dd301f",
   "metadata": {},
   "outputs": [],
   "source": [
    "import numpy as np\n",
    "\n",
    "\n",
    "def moving_avg(seq, k):\n",
    "    '''\n",
    "    Generates Moving Average sequence having *n-k+1* elements \n",
    "    from a given sequence of *n* elements over a window sized *k*.\n",
    "    \n",
    "    Explanation:\n",
    "    ============\n",
    "    The moving averages with k = 4 of a ten-value sequence (n = 10)\n",
    "    \n",
    "    Input: [10, 20, 30, 40, 50, 60, 70, 80, 90, 100]\n",
    "    \n",
    "    y1 25 = (10+20+30+40)/4\n",
    "    y2 35 = (20+30+40+50)/4\n",
    "    y3 45 = (30+40+50+60)/4\n",
    "    y4 55 = (40+50+60+70)/4\n",
    "    y5 65 = (50+60+70+80)/4\n",
    "    y6 75 = (60+70+80+90)/4\n",
    "    y7 85 = (70+80+90+100)/4\n",
    "    \n",
    "    Output: [25, 35, 45, 55, 65, 75, 85]\n",
    "    \n",
    "    Parameters:\n",
    "    ===========\n",
    "    seq : array_like\n",
    "        Can also be a list or tuple\n",
    "        1-D input array.\n",
    "        \n",
    "     k : Window size over which moving average is to be calculated   \n",
    "    '''\n",
    "    import numpy as np\n",
    "    y = [sum(seq[i : i+k]) / k for i in range(len(seq) - k + 1)]\n",
    "    return np.array(y)"
   ]
  },
  {
   "cell_type": "code",
   "execution_count": 38,
   "id": "01bfa028",
   "metadata": {},
   "outputs": [
    {
     "name": "stdout",
     "output_type": "stream",
     "text": [
      "Length of given sequence: 13 \n",
      "Given Sequence: [3, 5, 7, 2, 8, 10, 11, 65, 72, 81, 99, 100, 150]\n",
      "******************************************************************************************\n",
      "\n",
      "Length of Resulting sequence: 11 \n",
      "\n",
      "Resulting Sequence: [  5.           4.66666667   5.66666667   6.66666667   9.66666667\n",
      "  28.66666667  49.33333333  72.66666667  84.          93.33333333\n",
      " 116.33333333]\n"
     ]
    }
   ],
   "source": [
    "a =  [3, 5, 7, 2, 8, 10, 11, 65, 72, 81, 99, 100, 150]\n",
    "\n",
    "res = moving_avg(a, 3)\n",
    "print('Length of given sequence:', len(a), '\\nGiven Sequence:', a)\n",
    "print('***'*30)\n",
    "print('\\nLength of Resulting sequence:', len(res), '\\n\\nResulting Sequence:', res)"
   ]
  }
 ],
 "metadata": {
  "kernelspec": {
   "display_name": "Python 3",
   "language": "python",
   "name": "python3"
  },
  "language_info": {
   "codemirror_mode": {
    "name": "ipython",
    "version": 3
   },
   "file_extension": ".py",
   "mimetype": "text/x-python",
   "name": "python",
   "nbconvert_exporter": "python",
   "pygments_lexer": "ipython3",
   "version": "3.8.8"
  }
 },
 "nbformat": 4,
 "nbformat_minor": 5
}
