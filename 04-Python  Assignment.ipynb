{
 "cells": [
  {
   "cell_type": "markdown",
   "id": "c46cec32",
   "metadata": {},
   "source": [
    "#### 1.1 Write a Python Program(with class concepts) to find the area of the triangle using the below formula."
   ]
  },
  {
   "cell_type": "markdown",
   "id": "cecabd4a",
   "metadata": {},
   "source": [
    "#### area = (s*(s-a)*(s-b)*(s-c)) ** 0.5\n",
    "Function to take the length of the sides of triangle from user should be defined in the parent\n",
    "class and function to calculate the area should be defined in subclass."
   ]
  },
  {
   "cell_type": "code",
   "execution_count": 2,
   "id": "9aedec65",
   "metadata": {},
   "outputs": [
    {
     "name": "stdout",
     "output_type": "stream",
     "text": [
      "Enter (space separated) length of three sides of Triangle: 3 4 5\n",
      "Perimeter of the triangle is 12\n",
      "Area of the triangle is 6.0\n"
     ]
    }
   ],
   "source": [
    "class Triangle:\n",
    "    \n",
    "    def __init__(self, sides):\n",
    "        self.sides = sides\n",
    "        \n",
    "class Operations(Triangle):\n",
    "    \n",
    "    def __init__(self, *args):\n",
    "        super(Operations, self).__init__(*args)        \n",
    "        \n",
    "    def perimeter(self):\n",
    "        self.p = sum(self.sides)\n",
    "        return self.p\n",
    "    \n",
    "    def area(self):\n",
    "        x, y, z = self.sides\n",
    "        s = self.perimeter()/2 #semiperimeter\n",
    "        self.ar = (s* (s - x)* (s - y)* (s - z)) ** 0.5\n",
    "        return self.ar\n",
    "    \n",
    "    def __str__(self):\n",
    "        return f'Perimeter of the triangle is {self.perimeter()}\\nArea of the triangle is {self.area()}'\n",
    "\n",
    "ar = Operations(list(map(int,input('Enter (space separated) length of three sides of Triangle: ').split())))\n",
    "print(ar)"
   ]
  },
  {
   "cell_type": "markdown",
   "id": "624db0ed",
   "metadata": {},
   "source": [
    "#### 1.2 Write a function filter_long_words() that takes a list of words and an integer n and returns the list of words that are longer than n."
   ]
  },
  {
   "cell_type": "code",
   "execution_count": 13,
   "id": "1cf22026",
   "metadata": {},
   "outputs": [
    {
     "name": "stdout",
     "output_type": "stream",
     "text": [
      "Space separated Words: wqe yuuye wrqwte fdfsfggfa hjjkljk fgsdg xcvzxc mnbfg\n",
      "Minimum Length: 5\n",
      "['wrqwte', 'fdfsfggfa', 'hjjkljk', 'xcvzxc']\n"
     ]
    }
   ],
   "source": [
    "def filter_long_word(word_list, n):\n",
    "    \n",
    "    return list(filter(lambda x: len(x) > n, word_list))\n",
    "\n",
    "word_list = input('Space separated Words: ').split() \n",
    "print(filter_long_word(word_list, int(input('Minimum Length: '))))"
   ]
  },
  {
   "cell_type": "code",
   "execution_count": 12,
   "id": "fcc6ac51",
   "metadata": {},
   "outputs": [
    {
     "name": "stdout",
     "output_type": "stream",
     "text": [
      "Space separated Words: wqe yuuye wrqwte fdfsfggfa hjjkljk fgsdg xcvzxc mnbfg\n",
      "Minimum Length: 5\n",
      "['wrqwte', 'fdfsfggfa', 'hjjkljk', 'xcvzxc']\n"
     ]
    }
   ],
   "source": [
    "words, n = input('Space separated Words: ').split(), int(input('Minimum Length: '))\n",
    "\n",
    "filter_long_words = list(filter(lambda x: len(x) > n, words))\n",
    "\n",
    "print(filter_long_words)"
   ]
  },
  {
   "cell_type": "markdown",
   "id": "21d3740d",
   "metadata": {},
   "source": [
    "#### 2.1 Write a Python program using function concept that maps list of words into a list of integers representing the lengths of the corresponding words."
   ]
  },
  {
   "cell_type": "markdown",
   "id": "1a273d4d",
   "metadata": {},
   "source": [
    "#### Hint:\n",
    "\n",
    "If a list [ ab,cde,erty] is passed on to the python function output should come as [2,3,4]\n",
    "\n",
    "Here 2,3 and 4 are the lengths of the words in the list."
   ]
  },
  {
   "cell_type": "code",
   "execution_count": 14,
   "id": "6c8d8552",
   "metadata": {},
   "outputs": [
    {
     "name": "stdout",
     "output_type": "stream",
     "text": [
      "Space separated Words: Write a Python program using function concept that maps\n",
      "[5, 1, 6, 7, 5, 8, 7, 4, 4]\n"
     ]
    }
   ],
   "source": [
    "def map_to_ints(words):\n",
    "    \n",
    "    return  list(map(lambda x: len(x), words))\n",
    "\n",
    "words = input('Space separated Words: ').split()\n",
    "print(map_to_ints(words))"
   ]
  },
  {
   "cell_type": "markdown",
   "id": "b9d4d2d8",
   "metadata": {},
   "source": [
    "#### 2.2 Write a Python function which takes a character (i.e. a string of length 1) and returns True if it is a vowel, False otherwise."
   ]
  },
  {
   "cell_type": "code",
   "execution_count": 15,
   "id": "8e09aabd",
   "metadata": {},
   "outputs": [
    {
     "name": "stdout",
     "output_type": "stream",
     "text": [
      "Character: E\n",
      "True\n"
     ]
    }
   ],
   "source": [
    "isvowel = lambda x: x in 'AEIOUaeiou'\n",
    "\n",
    "print(isvowel(input('Character: ')))"
   ]
  }
 ],
 "metadata": {
  "kernelspec": {
   "display_name": "Python 3",
   "language": "python",
   "name": "python3"
  },
  "language_info": {
   "codemirror_mode": {
    "name": "ipython",
    "version": 3
   },
   "file_extension": ".py",
   "mimetype": "text/x-python",
   "name": "python",
   "nbconvert_exporter": "python",
   "pygments_lexer": "ipython3",
   "version": "3.9.2"
  }
 },
 "nbformat": 4,
 "nbformat_minor": 5
}
